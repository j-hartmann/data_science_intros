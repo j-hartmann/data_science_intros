{
  "nbformat": 4,
  "nbformat_minor": 0,
  "metadata": {
    "colab": {
      "name": "MNIST and Fashion MNIST Classification (Solution).ipynb",
      "provenance": [],
      "collapsed_sections": [],
      "toc_visible": true,
      "include_colab_link": true
    },
    "kernelspec": {
      "display_name": "Python 2",
      "language": "python",
      "name": "python2"
    }
  },
  "cells": [
    {
      "cell_type": "markdown",
      "metadata": {
        "id": "view-in-github",
        "colab_type": "text"
      },
      "source": [
        "<a href=\"https://colab.research.google.com/github/j-hartmann/data_science_intros/blob/main/MNIST_and_Fashion_MNIST_Classification.ipynb\" target=\"_parent\"><img src=\"https://colab.research.google.com/assets/colab-badge.svg\" alt=\"Open In Colab\"/></a>"
      ]
    },
    {
      "cell_type": "markdown",
      "metadata": {
        "id": "fNQ1UckPS99F"
      },
      "source": [
        "# MNIST & Fashion MNIST Classification Notebook\n",
        "This notebook is losely based on the example provided at https://victorzhou.com/blog/keras-neural-network-tutorial/: \n",
        "\n",
        "MNIST is publicly available image data set which consists of 28 by 28 pixels image of hand-written single digits. So each image in MNIST is an image of a digit from 0 to 9. MNIST challenge is to develop a machine learning algorithm that can classify these images into 10 classes (0 to 9).\n",
        "\n",
        "Fashion-MNIST is a dataset of Zalando's article images—consisting of a training set of 60,000 examples and a test set of 10,000 examples. Each example is a 28x28 grayscale image, associated with a label from 10 classes. "
      ]
    },
    {
      "cell_type": "markdown",
      "metadata": {
        "id": "Z78pX8IjiBjr"
      },
      "source": [
        "## Setup"
      ]
    },
    {
      "cell_type": "code",
      "metadata": {
        "id": "sl2oW1o-gPl6",
        "outputId": "db279cdd-d73e-49fd-b186-2c1718e04b39",
        "colab": {
          "base_uri": "https://localhost:8080/"
        }
      },
      "source": [
        "!pip install mnist"
      ],
      "execution_count": 1,
      "outputs": [
        {
          "output_type": "stream",
          "name": "stdout",
          "text": [
            "Collecting mnist\n",
            "  Downloading mnist-0.2.2-py2.py3-none-any.whl (3.5 kB)\n",
            "Requirement already satisfied: numpy in /usr/local/lib/python3.7/dist-packages (from mnist) (1.21.6)\n",
            "Installing collected packages: mnist\n",
            "Successfully installed mnist-0.2.2\n"
          ]
        }
      ]
    },
    {
      "cell_type": "code",
      "metadata": {
        "id": "8fPVR2wjhLqr"
      },
      "source": [
        "import numpy as np\n",
        "import mnist\n",
        "from tensorflow import keras\n",
        "from tensorflow.keras.models import Sequential\n",
        "from tensorflow.keras.layers import Dense,Conv2D,MaxPooling2D,Flatten\n",
        "from tensorflow.keras.utils import to_categorical"
      ],
      "execution_count": 2,
      "outputs": []
    },
    {
      "cell_type": "code",
      "metadata": {
        "id": "ZFfCrGCJ5nV1"
      },
      "source": [
        "train_images = mnist.train_images()\n",
        "train_labels = mnist.train_labels()\n",
        "test_images = mnist.test_images()\n",
        "test_labels = mnist.test_labels()"
      ],
      "execution_count": 3,
      "outputs": []
    },
    {
      "cell_type": "code",
      "metadata": {
        "id": "68kPGl-AJUTM",
        "outputId": "3c22f3f9-aee1-4ef5-ab6f-de60e0aac231",
        "colab": {
          "base_uri": "https://localhost:8080/",
          "height": 369
        }
      },
      "source": [
        "test_images.shape\n",
        "import pandas as pd\n",
        "print(pd.Series(test_labels).loc[test_labels == 4].sample(4))\n",
        "from matplotlib import pyplot as plt\n",
        "plt.imshow(test_images[95])\n"
      ],
      "execution_count": 4,
      "outputs": [
        {
          "output_type": "stream",
          "name": "stdout",
          "text": [
            "8051    4\n",
            "9813    4\n",
            "3288    4\n",
            "6488    4\n",
            "dtype: uint8\n"
          ]
        },
        {
          "output_type": "execute_result",
          "data": {
            "text/plain": [
              "<matplotlib.image.AxesImage at 0x7f7b8ee3b350>"
            ]
          },
          "metadata": {},
          "execution_count": 4
        },
        {
          "output_type": "display_data",
          "data": {
            "text/plain": [
              "<Figure size 432x288 with 1 Axes>"
            ],
            "image/png": "[encoded data removed]"
          },
          "metadata": {
            "needs_background": "light"
          }
        }
      ]
    },
    {
      "cell_type": "code",
      "metadata": {
        "id": "FHi8wQoF0NND",
        "outputId": "d8882c31-61f6-4308-a75e-0dfc5b3ac586",
        "colab": {
          "base_uri": "https://localhost:8080/"
        }
      },
      "source": [
        "# load alternative fashion mnist dataset\n",
        "import tensorflow as tf\n",
        "fashion_mnist = tf.keras.datasets.fashion_mnist\n",
        "(train_images, train_labels), (test_images, test_labels) = fashion_mnist.load_data()"
      ],
      "execution_count": 5,
      "outputs": [
        {
          "output_type": "stream",
          "name": "stdout",
          "text": [
            "Downloading data from https://storage.googleapis.com/tensorflow/tf-keras-datasets/train-labels-idx1-ubyte.gz\n",
            "32768/29515 [=================================] - 0s 0us/step\n",
            "40960/29515 [=========================================] - 0s 0us/step\n",
            "Downloading data from https://storage.googleapis.com/tensorflow/tf-keras-datasets/train-images-idx3-ubyte.gz\n",
            "26427392/26421880 [==============================] - 0s 0us/step\n",
            "26435584/26421880 [==============================] - 0s 0us/step\n",
            "Downloading data from https://storage.googleapis.com/tensorflow/tf-keras-datasets/t10k-labels-idx1-ubyte.gz\n",
            "16384/5148 [===============================================================================================] - 0s 0us/step\n",
            "Downloading data from https://storage.googleapis.com/tensorflow/tf-keras-datasets/t10k-images-idx3-ubyte.gz\n",
            "4423680/4422102 [==============================] - 0s 0us/step\n",
            "4431872/4422102 [==============================] - 0s 0us/step\n"
          ]
        }
      ]
    },
    {
      "cell_type": "markdown",
      "metadata": {
        "id": "8ES1Axj7iMsH"
      },
      "source": [
        "## Understand the Data"
      ]
    },
    {
      "cell_type": "code",
      "metadata": {
        "id": "IUUl3gDJi-Kx",
        "outputId": "0f1eb3e9-ae69-42ce-8ef1-bf3513974bfd",
        "colab": {
          "base_uri": "https://localhost:8080/"
        }
      },
      "source": [
        "# how many examples do we have?\n",
        "print(len(train_images))\n",
        "print(len(train_labels))"
      ],
      "execution_count": 6,
      "outputs": [
        {
          "output_type": "stream",
          "name": "stdout",
          "text": [
            "60000\n",
            "60000\n"
          ]
        }
      ]
    },
    {
      "cell_type": "code",
      "metadata": {
        "id": "TnyDFPccIymb",
        "outputId": "ed68a89b-3d54-4dfa-f1a7-72191ee7b2b9",
        "colab": {
          "base_uri": "https://localhost:8080/"
        }
      },
      "source": [
        "train_labels.shape"
      ],
      "execution_count": 7,
      "outputs": [
        {
          "output_type": "execute_result",
          "data": {
            "text/plain": [
              "(60000,)"
            ]
          },
          "metadata": {},
          "execution_count": 7
        }
      ]
    },
    {
      "cell_type": "code",
      "metadata": {
        "id": "MaQsOC7BiUPy",
        "outputId": "b8b963cd-e469-4490-d5fa-7ab556ec8f8f",
        "colab": {
          "base_uri": "https://localhost:8080/"
        }
      },
      "source": [
        "# what resolution do our images have?\n",
        "train_images.shape"
      ],
      "execution_count": 8,
      "outputs": [
        {
          "output_type": "execute_result",
          "data": {
            "text/plain": [
              "(60000, 28, 28)"
            ]
          },
          "metadata": {},
          "execution_count": 8
        }
      ]
    },
    {
      "cell_type": "code",
      "metadata": {
        "id": "jKiD8ZBicg0C",
        "outputId": "71f08c42-63a3-4f11-878e-334b0b767384",
        "colab": {
          "base_uri": "https://localhost:8080/"
        }
      },
      "source": [
        "np.random.randn(4,4).reshape((-1,8)).flatten().mean()"
      ],
      "execution_count": 9,
      "outputs": [
        {
          "output_type": "execute_result",
          "data": {
            "text/plain": [
              "-0.3194094749876739"
            ]
          },
          "metadata": {},
          "execution_count": 9
        }
      ]
    },
    {
      "cell_type": "code",
      "metadata": {
        "id": "xrRpVt-FizYx",
        "outputId": "c9eb6d86-3e33-4054-a49e-b8458561bf35",
        "colab": {
          "base_uri": "https://localhost:8080/",
          "height": 282
        }
      },
      "source": [
        "# let's look at some examples\n",
        "from matplotlib import pyplot as plt\n",
        "num = 132\n",
        "print('Label:',train_labels[num])\n",
        "plt.imshow(train_images[num])\n",
        "plt.show()"
      ],
      "execution_count": 10,
      "outputs": [
        {
          "output_type": "stream",
          "name": "stdout",
          "text": [
            "Label: 7\n"
          ]
        },
        {
          "output_type": "display_data",
          "data": {
            "text/plain": [
              "<Figure size 432x288 with 1 Axes>"
            ],
            "image/png": "[encoded data removed]"
          },
          "metadata": {
            "needs_background": "light"
          }
        }
      ]
    },
    {
      "cell_type": "code",
      "metadata": {
        "id": "HCKQgmVQjoEg",
        "outputId": "6c19324f-7c82-45b9-f63c-9821549e3f64",
        "colab": {
          "base_uri": "https://localhost:8080/"
        }
      },
      "source": [
        "# how many do we have of each example?\n",
        "np.unique(train_labels, return_counts=True)"
      ],
      "execution_count": 11,
      "outputs": [
        {
          "output_type": "execute_result",
          "data": {
            "text/plain": [
              "(array([0, 1, 2, 3, 4, 5, 6, 7, 8, 9], dtype=uint8),\n",
              " array([6000, 6000, 6000, 6000, 6000, 6000, 6000, 6000, 6000, 6000]))"
            ]
          },
          "metadata": {},
          "execution_count": 11
        }
      ]
    },
    {
      "cell_type": "code",
      "metadata": {
        "id": "_77Auz8jnGbf",
        "outputId": "47cfa867-232e-4f61-ccf5-5e36cca25530",
        "colab": {
          "base_uri": "https://localhost:8080/"
        }
      },
      "source": [
        "# how is our image data represented?\n",
        "np.unique(train_images)"
      ],
      "execution_count": 12,
      "outputs": [
        {
          "output_type": "execute_result",
          "data": {
            "text/plain": [
              "array([  0,   1,   2,   3,   4,   5,   6,   7,   8,   9,  10,  11,  12,\n",
              "        13,  14,  15,  16,  17,  18,  19,  20,  21,  22,  23,  24,  25,\n",
              "        26,  27,  28,  29,  30,  31,  32,  33,  34,  35,  36,  37,  38,\n",
              "        39,  40,  41,  42,  43,  44,  45,  46,  47,  48,  49,  50,  51,\n",
              "        52,  53,  54,  55,  56,  57,  58,  59,  60,  61,  62,  63,  64,\n",
              "        65,  66,  67,  68,  69,  70,  71,  72,  73,  74,  75,  76,  77,\n",
              "        78,  79,  80,  81,  82,  83,  84,  85,  86,  87,  88,  89,  90,\n",
              "        91,  92,  93,  94,  95,  96,  97,  98,  99, 100, 101, 102, 103,\n",
              "       104, 105, 106, 107, 108, 109, 110, 111, 112, 113, 114, 115, 116,\n",
              "       117, 118, 119, 120, 121, 122, 123, 124, 125, 126, 127, 128, 129,\n",
              "       130, 131, 132, 133, 134, 135, 136, 137, 138, 139, 140, 141, 142,\n",
              "       143, 144, 145, 146, 147, 148, 149, 150, 151, 152, 153, 154, 155,\n",
              "       156, 157, 158, 159, 160, 161, 162, 163, 164, 165, 166, 167, 168,\n",
              "       169, 170, 171, 172, 173, 174, 175, 176, 177, 178, 179, 180, 181,\n",
              "       182, 183, 184, 185, 186, 187, 188, 189, 190, 191, 192, 193, 194,\n",
              "       195, 196, 197, 198, 199, 200, 201, 202, 203, 204, 205, 206, 207,\n",
              "       208, 209, 210, 211, 212, 213, 214, 215, 216, 217, 218, 219, 220,\n",
              "       221, 222, 223, 224, 225, 226, 227, 228, 229, 230, 231, 232, 233,\n",
              "       234, 235, 236, 237, 238, 239, 240, 241, 242, 243, 244, 245, 246,\n",
              "       247, 248, 249, 250, 251, 252, 253, 254, 255], dtype=uint8)"
            ]
          },
          "metadata": {},
          "execution_count": 12
        }
      ]
    },
    {
      "cell_type": "markdown",
      "metadata": {
        "id": "KGvVYkgQiRYo"
      },
      "source": [
        "## Data Preparation"
      ]
    },
    {
      "cell_type": "code",
      "metadata": {
        "id": "WyFEyFpxjjGF"
      },
      "source": [
        "# normalize the images\n",
        "train_images = (train_images-train_images.mean())/train_images.std()\n",
        "test_images = (test_images-train_images.mean())/train_images.std()"
      ],
      "execution_count": 13,
      "outputs": []
    },
    {
      "cell_type": "code",
      "metadata": {
        "id": "nqyb_D83u0SE"
      },
      "source": [
        "# flatten the images\n",
        "train_images = train_images.reshape((-1, 28*28))\n",
        "test_images = test_images.reshape((-1, 28*28))"
      ],
      "execution_count": 14,
      "outputs": []
    },
    {
      "cell_type": "code",
      "metadata": {
        "id": "txBchLoguyLj",
        "outputId": "b49e5284-1dfa-4152-f0c2-ab610cbc0187",
        "colab": {
          "base_uri": "https://localhost:8080/"
        }
      },
      "source": [
        "# do we need to transform labels (later)?\n",
        "print(to_categorical(train_labels)[:2])\n",
        "(train_labels[:2])"
      ],
      "execution_count": 15,
      "outputs": [
        {
          "output_type": "stream",
          "name": "stdout",
          "text": [
            "[[0. 0. 0. 0. 0. 0. 0. 0. 0. 1.]\n",
            " [1. 0. 0. 0. 0. 0. 0. 0. 0. 0.]]\n"
          ]
        },
        {
          "output_type": "execute_result",
          "data": {
            "text/plain": [
              "array([9, 0], dtype=uint8)"
            ]
          },
          "metadata": {},
          "execution_count": 15
        }
      ]
    },
    {
      "cell_type": "markdown",
      "metadata": {
        "id": "ffrUd_DGqqqX"
      },
      "source": [
        "## Get the Model"
      ]
    },
    {
      "cell_type": "code",
      "metadata": {
        "id": "XzU0XPuqrH_D",
        "outputId": "b6bb8bdb-d959-4923-c2ca-07c2c2a5fc81",
        "colab": {
          "base_uri": "https://localhost:8080/"
        }
      },
      "source": [
        "# build the model\n",
        "model = Sequential([\n",
        "  Dense(64, activation='relu', input_shape=(784,)),\n",
        "  Dense(64, activation='relu'),\n",
        "  Dense(10, activation='softmax'),\n",
        "])\n",
        "\n",
        "# compile the model\n",
        "model.compile(\n",
        "  optimizer='adam',\n",
        "  loss='categorical_crossentropy', \n",
        "  metrics=['accuracy'],\n",
        ")\n",
        "\n",
        "# let's take a look at our model\n",
        "model.summary()\n",
        "\n",
        "# why do we get the specific number of parameters?"
      ],
      "execution_count": 16,
      "outputs": [
        {
          "output_type": "stream",
          "name": "stdout",
          "text": [
            "Model: \"sequential\"\n",
            "_________________________________________________________________\n",
            " Layer (type)                Output Shape              Param #   \n",
            "=================================================================\n",
            " dense (Dense)               (None, 64)                50240     \n",
            "                                                                 \n",
            " dense_1 (Dense)             (None, 64)                4160      \n",
            "                                                                 \n",
            " dense_2 (Dense)             (None, 10)                650       \n",
            "                                                                 \n",
            "=================================================================\n",
            "Total params: 55,050\n",
            "Trainable params: 55,050\n",
            "Non-trainable params: 0\n",
            "_________________________________________________________________\n"
          ]
        }
      ]
    },
    {
      "cell_type": "markdown",
      "metadata": {
        "id": "1H8GjzSYuoQR"
      },
      "source": [
        "## Train the Model"
      ]
    },
    {
      "cell_type": "code",
      "metadata": {
        "id": "RXoZkZ2evqkY",
        "outputId": "ae1e00a7-4974-417f-cbf3-e36a348a0088",
        "colab": {
          "base_uri": "https://localhost:8080/"
        }
      },
      "source": [
        "model.fit(\n",
        "  train_images,\n",
        "  to_categorical(train_labels),\n",
        "  epochs=5,\n",
        "  batch_size=64,\n",
        "  validation_data=(test_images, to_categorical(test_labels)),\n",
        ")"
      ],
      "execution_count": 17,
      "outputs": [
        {
          "output_type": "stream",
          "name": "stdout",
          "text": [
            "Epoch 1/5\n",
            "938/938 [==============================] - 8s 7ms/step - loss: 0.4767 - accuracy: 0.8278 - val_loss: 30.8427 - val_accuracy: 0.7410\n",
            "Epoch 2/5\n",
            "938/938 [==============================] - 6s 7ms/step - loss: 0.3584 - accuracy: 0.8697 - val_loss: 20.4884 - val_accuracy: 0.8087\n",
            "Epoch 3/5\n",
            "938/938 [==============================] - 6s 7ms/step - loss: 0.3250 - accuracy: 0.8808 - val_loss: 21.2787 - val_accuracy: 0.8137\n",
            "Epoch 4/5\n",
            "938/938 [==============================] - 4s 4ms/step - loss: 0.3012 - accuracy: 0.8889 - val_loss: 19.9639 - val_accuracy: 0.8018\n",
            "Epoch 5/5\n",
            "938/938 [==============================] - 3s 3ms/step - loss: 0.2861 - accuracy: 0.8932 - val_loss: 27.8697 - val_accuracy: 0.7786\n"
          ]
        },
        {
          "output_type": "execute_result",
          "data": {
            "text/plain": [
              "<keras.callbacks.History at 0x7f7b8a6f2990>"
            ]
          },
          "metadata": {},
          "execution_count": 17
        }
      ]
    },
    {
      "cell_type": "markdown",
      "metadata": {
        "id": "6jDf1xVlxLUL"
      },
      "source": [
        "## Evaluate Model"
      ]
    },
    {
      "cell_type": "code",
      "metadata": {
        "id": "03roFy8jgfUm",
        "outputId": "0a730d63-2052-4b5c-f055-51e0f08248d1",
        "colab": {
          "base_uri": "https://localhost:8080/"
        }
      },
      "source": [
        "model.evaluate( \n",
        "  test_images, \n",
        "  to_categorical(test_labels)\n",
        ")\n",
        "\n",
        "# # predict on the first 5 test images.\n",
        "# predictions = model.predict(test_images[:5])\n",
        "\n",
        "# # print our model's predictions\n",
        "# print(np.argmax(predictions, axis=1)) \n",
        "\n",
        "# # check our predictions against the ground truths\n",
        "# print(test_labels[:5]) "
      ],
      "execution_count": 18,
      "outputs": [
        {
          "output_type": "stream",
          "name": "stdout",
          "text": [
            "313/313 [==============================] - 1s 2ms/step - loss: 27.8697 - accuracy: 0.7786\n"
          ]
        },
        {
          "output_type": "execute_result",
          "data": {
            "text/plain": [
              "[27.869712829589844, 0.7785999774932861]"
            ]
          },
          "metadata": {},
          "execution_count": 18
        }
      ]
    },
    {
      "cell_type": "code",
      "metadata": {
        "id": "Qtf1l7GsmhMi"
      },
      "source": [
        "# wouldn't it be nice to track test loss while training?"
      ],
      "execution_count": null,
      "outputs": []
    },
    {
      "cell_type": "markdown",
      "metadata": {
        "id": "X0v3QSH_dJHE"
      },
      "source": [
        "## Save (and Load) Model"
      ]
    },
    {
      "cell_type": "code",
      "metadata": {
        "id": "_eM3O0gydN--",
        "outputId": "99e37f07-34cd-46ef-e772-af6ae5d4fdee",
        "colab": {
          "base_uri": "https://localhost:8080/"
        }
      },
      "source": [
        "model.save('mnist_pretrained_model')"
      ],
      "execution_count": 19,
      "outputs": [
        {
          "output_type": "stream",
          "name": "stdout",
          "text": [
            "INFO:tensorflow:Assets written to: mnist_pretrained_model/assets\n"
          ]
        }
      ]
    },
    {
      "cell_type": "code",
      "metadata": {
        "id": "NMnqYTkafBtv"
      },
      "source": [
        "# It can be used to reconstruct the model identically.\n",
        "reconstructed_model = keras.models.load_model(\"mnist_pretrained_model\")"
      ],
      "execution_count": 20,
      "outputs": []
    },
    {
      "cell_type": "code",
      "metadata": {
        "id": "VXw02EtNfw8v",
        "outputId": "ee98c0d8-dba3-4553-c975-bc3c29c1eccb",
        "colab": {
          "base_uri": "https://localhost:8080/"
        }
      },
      "source": [
        "reconstructed_model.evaluate( \n",
        "  test_images, \n",
        "  to_categorical(test_labels)\n",
        ")\n",
        "\n",
        "# predict on the first 5 test images.\n",
        "predictions = reconstructed_model.predict(test_images[:5])\n",
        "\n",
        "# print our model's predictions\n",
        "print(np.argmax(predictions, axis=1)) \n",
        "\n",
        "# check our predictions against the ground truths\n",
        "print(test_labels[:5]) "
      ],
      "execution_count": 21,
      "outputs": [
        {
          "output_type": "stream",
          "name": "stdout",
          "text": [
            "313/313 [==============================] - 1s 2ms/step - loss: 27.8697 - accuracy: 0.7786\n",
            "[9 2 1 1 6]\n",
            "[9 2 1 1 6]\n"
          ]
        }
      ]
    },
    {
      "cell_type": "code",
      "metadata": {
        "id": "L6UFLtw9f1dx",
        "outputId": "5d33e7ff-0617-43b5-e646-82e6961f3ef1",
        "colab": {
          "base_uri": "https://localhost:8080/"
        }
      },
      "source": [
        "reconstructed_model.summary()"
      ],
      "execution_count": 22,
      "outputs": [
        {
          "output_type": "stream",
          "name": "stdout",
          "text": [
            "Model: \"sequential\"\n",
            "_________________________________________________________________\n",
            " Layer (type)                Output Shape              Param #   \n",
            "=================================================================\n",
            " dense (Dense)               (None, 64)                50240     \n",
            "                                                                 \n",
            " dense_1 (Dense)             (None, 64)                4160      \n",
            "                                                                 \n",
            " dense_2 (Dense)             (None, 10)                650       \n",
            "                                                                 \n",
            "=================================================================\n",
            "Total params: 55,050\n",
            "Trainable params: 55,050\n",
            "Non-trainable params: 0\n",
            "_________________________________________________________________\n"
          ]
        }
      ]
    },
    {
      "cell_type": "markdown",
      "metadata": {
        "id": "ucWGgYkd1Lw3"
      },
      "source": [
        "## Try Alternative Model incl. CNNs"
      ]
    },
    {
      "cell_type": "markdown",
      "metadata": {
        "id": "Gq-0jtJuBnNI"
      },
      "source": [
        "##### Get Model inlc. CNN"
      ]
    },
    {
      "cell_type": "code",
      "metadata": {
        "id": "blHfeE1z3VRV"
      },
      "source": [
        "model = Sequential([\n",
        "  Conv2D(64, kernel_size=(3,3), activation='relu', input_shape=(28,28,1)),\n",
        "  MaxPooling2D((2,2)),\n",
        "  Flatten(),\n",
        "  Dense(64, activation='relu'),\n",
        "  Dense(64, activation='relu'),\n",
        "  Dense(10, activation='softmax'),\n",
        "])\n",
        "\n",
        "# compile the model\n",
        "model.compile(\n",
        "  optimizer='adam',\n",
        "  loss='categorical_crossentropy', \n",
        "  metrics=['accuracy'],\n",
        ")\n",
        "\n",
        "# let's take a look at our model\n"
      ],
      "execution_count": 23,
      "outputs": []
    },
    {
      "cell_type": "markdown",
      "metadata": {
        "id": "-zrOxQU6BsOw"
      },
      "source": [
        "##### Train CNN Model"
      ]
    },
    {
      "cell_type": "code",
      "metadata": {
        "id": "CPoBdXtR8gFC",
        "outputId": "61810ea4-2680-47b4-f7c2-954900712ef2",
        "colab": {
          "base_uri": "https://localhost:8080/"
        }
      },
      "source": [
        "model.fit(\n",
        "  train_images.reshape(train_images.shape[0],28,28,1),\n",
        "  to_categorical(train_labels),\n",
        "  epochs=5,\n",
        "  batch_size=64,\n",
        "  validation_data=(test_images.reshape(test_images.shape[0],28,28,1), to_categorical(test_labels)),\n",
        ")"
      ],
      "execution_count": 24,
      "outputs": [
        {
          "output_type": "stream",
          "name": "stdout",
          "text": [
            "Epoch 1/5\n",
            "938/938 [==============================] - 46s 48ms/step - loss: 0.4015 - accuracy: 0.8559 - val_loss: 16.1253 - val_accuracy: 0.8432\n",
            "Epoch 2/5\n",
            "938/938 [==============================] - 45s 48ms/step - loss: 0.2736 - accuracy: 0.9009 - val_loss: 17.2618 - val_accuracy: 0.8560\n",
            "Epoch 3/5\n",
            "938/938 [==============================] - 44s 47ms/step - loss: 0.2308 - accuracy: 0.9154 - val_loss: 28.5285 - val_accuracy: 0.8039\n",
            "Epoch 4/5\n",
            "938/938 [==============================] - 44s 47ms/step - loss: 0.2028 - accuracy: 0.9258 - val_loss: 21.7230 - val_accuracy: 0.8331\n",
            "Epoch 5/5\n",
            "938/938 [==============================] - 43s 46ms/step - loss: 0.1770 - accuracy: 0.9334 - val_loss: 23.1504 - val_accuracy: 0.8476\n"
          ]
        },
        {
          "output_type": "execute_result",
          "data": {
            "text/plain": [
              "<keras.callbacks.History at 0x7f7b8a656d10>"
            ]
          },
          "metadata": {},
          "execution_count": 24
        }
      ]
    },
    {
      "cell_type": "markdown",
      "metadata": {
        "id": "pX8qk0RABu8e"
      },
      "source": [
        "##### Evaluate CNN Model"
      ]
    },
    {
      "cell_type": "code",
      "metadata": {
        "id": "HbtT_mdWBlO_",
        "outputId": "9991d390-9c81-40f6-82c7-40c688272b52",
        "colab": {
          "base_uri": "https://localhost:8080/"
        }
      },
      "source": [
        "model.evaluate( \n",
        "  test_images.reshape(test_images.shape[0],28,28,1), \n",
        "  to_categorical(test_labels)\n",
        ")\n",
        "\n",
        "# predict on the first 5 test images.\n",
        "predictions = model.predict(test_images.reshape(test_images.shape[0],28,28,1)[:5])\n",
        "\n",
        "# print our model's predictions\n",
        "print(np.argmax(predictions, axis=1)) # [7, 2, 1, 0, 4]\n",
        "\n",
        "# check our predictions against the ground truths.\n",
        "print(test_labels[:5]) # [7, 2, 1, 0, 4]"
      ],
      "execution_count": 27,
      "outputs": [
        {
          "output_type": "stream",
          "name": "stdout",
          "text": [
            "313/313 [==============================] - 2s 8ms/step - loss: 23.1504 - accuracy: 0.8476\n",
            "[9 2 1 1 6]\n",
            "[9 2 1 1 6]\n"
          ]
        }
      ]
    },
    {
      "cell_type": "code",
      "source": [
        ""
      ],
      "metadata": {
        "id": "7Cx8EOW6u08z"
      },
      "execution_count": null,
      "outputs": []
    }
  ]
}